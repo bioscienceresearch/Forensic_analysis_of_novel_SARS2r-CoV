{
 "cells": [
  {
   "cell_type": "code",
   "execution_count": 56,
   "id": "generic-tsunami",
   "metadata": {},
   "outputs": [],
   "source": [
    "import pathlib\n",
    "import subprocess\n",
    "import os\n",
    "import pandas as pd"
   ]
  },
  {
   "cell_type": "code",
   "execution_count": 57,
   "id": "casual-spring",
   "metadata": {},
   "outputs": [
    {
     "data": {
      "text/html": [
       "<style>.container { width:95% !important; }</style>"
      ],
      "text/plain": [
       "<IPython.core.display.HTML object>"
      ]
     },
     "metadata": {},
     "output_type": "display_data"
    }
   ],
   "source": [
    "from IPython.core.display import display, HTML\n",
    "display(HTML(\"<style>.container { width:95% !important; }</style>\"))"
   ]
  },
  {
   "cell_type": "code",
   "execution_count": 58,
   "id": "e9345d53-9a51-4965-83e8-4ecb709565c0",
   "metadata": {},
   "outputs": [],
   "source": [
    "import warnings\n",
    "warnings.filterwarnings('ignore')\n",
    "warnings.simplefilter('ignore')"
   ]
  },
  {
   "cell_type": "markdown",
   "id": "37052967",
   "metadata": {},
   "source": [
    "### Read alignment using Minimap2"
   ]
  },
  {
   "cell_type": "code",
   "execution_count": 59,
   "id": "7ab23e2e",
   "metadata": {},
   "outputs": [],
   "source": [
    "def log_cmd(log_file, cmd, file_opt='a'):\n",
    "    try:\n",
    "        f = open(log_file, file_opt)\n",
    "        f.write(cmd)\n",
    "        f.write('\\n')\n",
    "        f.close()\n",
    "    except Exception as e:\n",
    "        raise RuntimeError(\"command '{}' return with error (code {}): {}\".format(e.cmd, e.returncode, e.output))"
   ]
  },
  {
   "cell_type": "code",
   "execution_count": 60,
   "id": "d31473f1-a465-44ea-801d-47543c3ba642",
   "metadata": {},
   "outputs": [],
   "source": [
    "def run_minimap2(fastq_1, fastq_2, alignment_path, sra, sra_r=None):\n",
    "    if sra_r:\n",
    "        out_file= f\"{alignment_path}{sra}_{ALIGN_OPTS_NAME}_{ALIGN_NAME}{sra_r}_minimap2.sam\"\n",
    "    else:\n",
    "        out_file= f\"{alignment_path}{sra}_{ALIGN_OPTS_NAME}_{ALIGN_NAME}_minimap2.sam\"\n",
    "    try:\n",
    "        cmd = f\"{MINIMAP2_PATH}minimap2 {MINIMAP_PARAMS} -a {REF_PATH+REF_NAME} {fastq_1} {fastq_2} >{out_file} \"\n",
    "        print(cmd)\n",
    "        subprocess.check_call(cmd, shell=True)\n",
    "    except subprocess.CalledProcessError as e:\n",
    "        raise RuntimeError(\"command '{}' return with error (code {}): {}\".format(e.cmd, e.returncode, e.output))\n",
    "    log_file=out_file.split('.sam')[0]+'_log.txt'\n",
    "    log_cmd(log_file, cmd, file_opt='w')\n",
    "    return out_file"
   ]
  },
  {
   "cell_type": "code",
   "execution_count": 61,
   "id": "fitted-function",
   "metadata": {},
   "outputs": [],
   "source": [
    "def gatk_sort(bwa_mem_out):\n",
    "    out_file=bwa_mem_out.split('.sam')[0]\n",
    "    out_file=out_file+'_gatk_sorted.sam'\n",
    "    try:\n",
    "        cmd=f\"java -jar ~/apps/gatk-4.1.9.0/gatk-package-4.1.9.0-local.jar  SortSam INPUT={bwa_mem_out} OUTPUT={out_file} SORT_ORDER=coordinate VALIDATION_STRINGENCY=SILENT\"\n",
    "        subprocess.check_call(cmd, shell=True)\n",
    "    except subprocess.CalledProcessError as e:\n",
    "        raise RuntimeError(\"command '{}' return with error (code {}): {}\".format(e.cmd, e.returncode, e.output))\n",
    "    return out_file"
   ]
  },
  {
   "cell_type": "code",
   "execution_count": 62,
   "id": "welcome-catch",
   "metadata": {},
   "outputs": [],
   "source": [
    "def gatk_metrics(gatk_out):\n",
    "    gatk_file=gatk_out.split('.sam')[0]\n",
    "    out_file=gatk_file+'_marked.bam'\n",
    "    metrics_file=gatk_file+'_metrics.txt'\n",
    "    try:\n",
    "        cmd=f\"java -Xmx64G -jar ~/apps/gatk-4.1.9.0/gatk-package-4.1.9.0-local.jar  MarkDuplicates INPUT={gatk_out} OUTPUT={out_file} METRICS_FILE={metrics_file} ASSUME_SORTED=true VALIDATION_STRINGENCY=SILENT\"\n",
    "        subprocess.check_call(cmd, shell=True)\n",
    "    except subprocess.CalledProcessError as e:\n",
    "        raise RuntimeError(\"command '{}' return with error (code {}): {}\".format(e.cmd, e.returncode, e.output))\n",
    "    return out_file"
   ]
  },
  {
   "cell_type": "code",
   "execution_count": 63,
   "id": "welsh-development",
   "metadata": {},
   "outputs": [],
   "source": [
    "def index_bam(gatk_bam_file):\n",
    "    try:\n",
    "        cmd=f\"{SAMTOOLS_PATH}samtools index {gatk_bam_file}\"\n",
    "        subprocess.check_call(cmd, shell=True)\n",
    "    except subprocess.CalledProcessError as e:\n",
    "        raise RuntimeError(\"command '{}' return with error (code {}): {}\".format(e.cmd, e.returncode, e.output))"
   ]
  },
  {
   "cell_type": "code",
   "execution_count": 64,
   "id": "seven-patient",
   "metadata": {},
   "outputs": [],
   "source": [
    "def run_fastp(in_1, in_2):\n",
    "    print('processing with fastp')\n",
    "    out_1=in_1.split('.fq')[0]+'_fastp.fq'\n",
    "    out_2=in_2.split('.fq')[0]+'_fastp.fq'\n",
    "    cmd = f\"fastp --in1 {in_1} --in2 {in_2} --out1 {out_1} --out2 {out_2}\"\n",
    "    subprocess.check_call(cmd, shell=True)\n",
    "    return out_1, out_2\n",
    "    "
   ]
  },
  {
   "cell_type": "code",
   "execution_count": 65,
   "id": "canadian-natural",
   "metadata": {},
   "outputs": [],
   "source": [
    "def remove_file(file_to_del):\n",
    "    cmd = f\"rm {file_to_del}\"\n",
    "    subprocess.check_call(cmd, shell=True)\n",
    "    "
   ]
  },
  {
   "cell_type": "code",
   "execution_count": 66,
   "id": "interior-gabriel",
   "metadata": {},
   "outputs": [],
   "source": [
    "def create_bed(fasta_file, bed_file):\n",
    "    cmd=f'faidx --transform bed {fasta_file} > {bed_file}'\n",
    "    subprocess.check_call(cmd, shell=True)"
   ]
  },
  {
   "cell_type": "code",
   "execution_count": 67,
   "id": "entertaining-trouble",
   "metadata": {},
   "outputs": [],
   "source": [
    "def run_bamdst(bed_file, out_path, bam_in):\n",
    "    try:\n",
    "        cmd=f'{BAMDST_PATH}bamdst -p {bed_file} -o {out_path} {bam_in}'\n",
    "        subprocess.check_call(cmd, shell=True)\n",
    "    except subprocess.CalledProcessError as e:\n",
    "        print(\"command '{}' return with error (code {}): {}\".format(e.cmd, e.returncode, e.output))"
   ]
  },
  {
   "cell_type": "code",
   "execution_count": 68,
   "id": "minute-lighter",
   "metadata": {},
   "outputs": [],
   "source": [
    "def run_bamstats(bam_file, stats_out):\n",
    "    try:\n",
    "        cmd=f'java -Xmx48g -Djava.awt.headless=true -jar ~/apps/BAMStats-1.25/BAMStats-1.25.jar -i {bam_file} -m -q -o {stats_out}'\n",
    "        subprocess.check_call(cmd, shell=True)\n",
    "    except subprocess.CalledProcessError as e:\n",
    "        print(\"command '{}' return with error (code {}): {}\".format(e.cmd, e.returncode, e.output))"
   ]
  },
  {
   "cell_type": "code",
   "execution_count": 69,
   "id": "200952db",
   "metadata": {},
   "outputs": [],
   "source": [
    "def bam_to_bed(gatk_bam_file):\n",
    "    bed_file=gatk_bam_file.split('.bam')[0]+'.bed'\n",
    "    cmd=f'{BEDTOOLS_PATH}bedtools bamtobed -i {gatk_bam_file} >{bed_file}'\n",
    "    subprocess.check_call(cmd, shell=True)"
   ]
  },
  {
   "cell_type": "code",
   "execution_count": 70,
   "id": "ecb5e526",
   "metadata": {},
   "outputs": [],
   "source": [
    "def run_samtools_stats(gatk_bam_file, ref_genome):\n",
    "    bam_path_root=gatk_bam_file.split('.bam')[0]\n",
    "    sam_out=bam_path_root+'_samtools_stats.txt'\n",
    "    cmd=f'{SAMTOOLS_PATH}samtools stats {gatk_bam_file} --reference {ref_genome} >{sam_out}'\n",
    "    subprocess.check_call(cmd, shell=True)"
   ]
  },
  {
   "cell_type": "code",
   "execution_count": 71,
   "id": "e062794a",
   "metadata": {},
   "outputs": [],
   "source": [
    "def run_flagtools(gatk_bam_file):\n",
    "    bam_path_root=gatk_bam_file.split('.bam')[0]\n",
    "    flagstat_file=bam_path_root+'_flagtools.txt'\n",
    "    cmd=f'{SAMTOOLS_PATH}samtools flagstat {gatk_bam_file} >{flagstat_file}'\n",
    "    subprocess.check_call(cmd, shell=True)"
   ]
  },
  {
   "cell_type": "code",
   "execution_count": 72,
   "id": "d7b6b963",
   "metadata": {},
   "outputs": [],
   "source": [
    "def run_idxstats(gatk_bam_file, flagstat_file):\n",
    "    cmd=f\"{SAMTOOLS_PATH}samtools idxstats {gatk_bam_file} >{flagstat_file}\"\n",
    "    try: \n",
    "        subprocess.check_call(cmd, shell=True)\n",
    "    except subprocess.CalledProcessError as e:\n",
    "        print(\"command '{}' return with error (code {}): {}\".format(e.cmd, e.returncode, e.output))"
   ]
  },
  {
   "cell_type": "code",
   "execution_count": 73,
   "id": "upper-confidence",
   "metadata": {},
   "outputs": [],
   "source": [
    "def prep_bed(create=True):\n",
    "    fasta_file=REF_PATH+REF_NAME\n",
    "    bed_file=REF_PATH+'bed/'+REF_NAME.split('.fa')[0]+'.bed'\n",
    "    pathlib.Path(REF_PATH+'bed/').mkdir(exist_ok=True)\n",
    "    if create:\n",
    "        create_bed(fasta_file, bed_file)\n",
    "    return bed_file"
   ]
  },
  {
   "cell_type": "code",
   "execution_count": 74,
   "id": "f2dd9c61",
   "metadata": {},
   "outputs": [],
   "source": [
    "def bam_to_fastq():\n",
    "    ref=REF_NAME.split('.fa')[0]\n",
    "    for idx, sra in enumerate(SRAs):\n",
    "        alignment_path=PRJ_OUT_PATH+sra+'/minimap2/'\n",
    "        #SRR10168373_reads_mitochondria_mamals_1_local_G_298_0_minimap2_gatk_sorted_marked.bam\n",
    "        bam_file= f\"{alignment_path}{sra}_reads_{ref}_{ALIGN_OPTS_NAME}_minimap2_gatk_sorted_marked.bam\"\n",
    "        fastq_file= f\"{alignment_path}{sra}_reads_{ref}_{ALIGN_OPTS_NAME}_minimap2_gatk_sorted_marked_bedtools.fq\"\n",
    "        print(fastq_file)\n",
    "        cmd=f'{BEDTOOLS_PATH}bedtools bamtofastq -i {bam_file} -fq {fastq_file}'\n",
    "        subprocess.check_call(cmd, shell=True)"
   ]
  },
  {
   "cell_type": "code",
   "execution_count": 75,
   "id": "aa4c5f04",
   "metadata": {},
   "outputs": [],
   "source": [
    "def align_idx_bamdst(idxstat_file, bamdst_report):\n",
    "    f_idx = open(idxstat_file, mode='r')\n",
    "    print(f'--align_idx_bamdst() idxstat_file: {idxstat_file}')\n",
    "    idx_lines = f_idx.readlines()\n",
    "    f_idx.close()\n",
    "    f_bamdst = open(bamdst_report, mode='r')\n",
    "    bamdst_lines = f_bamdst.readlines()\n",
    "    f_bamdst.close()\n",
    "    fixed_lines=[]\n",
    "    for count, b_line in enumerate(bamdst_lines):\n",
    "        b_words = b_line.split('\\t')\n",
    "        if count==0:\n",
    "            b_words[0]='Accession'\n",
    "            b_words.insert(1,'ref_length')\n",
    "            b_words.insert(2,'N')\n",
    "            new_line='\\t'.join(b_words)\n",
    "            fixed_lines.append(new_line)\n",
    "        else:\n",
    "            if float(b_words[1])>0.0 or float(b_words[4])>0.0:\n",
    "                for i_line in idx_lines:\n",
    "                    i_words = i_line.split('\\t')\n",
    "                    if b_words[0].strip() == i_words[0].strip():\n",
    "                        b_words.insert(1,i_words[1])\n",
    "                        b_words.insert(2,i_words[2])\n",
    "                new_line='\\t'.join(b_words)\n",
    "                fixed_lines.append(new_line)\n",
    "    new_report=bamdst_report.split('.txt')[0]+'_N.txt'\n",
    "    print(f'new_report: {new_report}')\n",
    "    f = open(new_report, \"w\")\n",
    "    f.writelines(fixed_lines)\n",
    "    f.close()\n",
    "    return new_report"
   ]
  },
  {
   "cell_type": "code",
   "execution_count": 76,
   "id": "moral-victor",
   "metadata": {},
   "outputs": [],
   "source": [
    "def workflow_paired(sra_dir=False, bed_file=None):\n",
    "    if not os.path.isfile(PRJ_OUT_PATH):\n",
    "        pathlib.Path(PRJ_OUT_PATH).mkdir(exist_ok=True)\n",
    "    for idx, sra in enumerate(SRAs):\n",
    "        print(f'{sra}')\n",
    "        fastq1=FASTQ_FILES[2*idx]\n",
    "        fastq2=FASTQ_FILES[(2*idx)+1]\n",
    "        if sra_dir:\n",
    "            f1path=BASE_PATH+sra+'/'+fastq1\n",
    "            f2path=BASE_PATH+sra+'/'+fastq2\n",
    "        else:\n",
    "            f1path=BASE_PATH+fastq1\n",
    "            f2path=BASE_PATH+fastq2\n",
    "\n",
    "        alignment_path=PRJ_OUT_PATH+sra\n",
    "        if not os.path.isfile(alignment_path):\n",
    "            pathlib.Path(alignment_path).mkdir(exist_ok=True)\n",
    "        alignment_path=PRJ_OUT_PATH+sra+'/minimap2/'\n",
    "        if not os.path.isfile(alignment_path):\n",
    "            pathlib.Path(alignment_path).mkdir(exist_ok=True)\n",
    "\n",
    "        if not os.path.isfile(f1path):\n",
    "            if not CREATE_FASTP:\n",
    "                print(f'file doesnt exist but should: {f1path}')\n",
    "                raise Exception\n",
    "            f1path, f2path=run_fastp(f1path, f2path)\n",
    "        sam_out=run_minimap2(f1path, f2path, alignment_path, sra)\n",
    "        gatk_out=gatk_sort(sam_out)\n",
    "        gatk_bam_file=gatk_metrics(gatk_out)\n",
    "        index_bam(gatk_bam_file)\n",
    "        #remove_file(sam_out)\n",
    "        remove_file(gatk_out)\n",
    "        \n",
    "        run_samtools_stats(gatk_bam_file, REF_PATH+REF_NAME)\n",
    "        run_flagtools(gatk_bam_file)\n",
    "\n",
    "        idxstat_file=gatk_bam_file.split(f'{BAM_POSTFIX}.bam')[0]+'idxstats.txt'\n",
    "        run_idxstats(gatk_bam_file, idxstat_file)\n",
    "        \n",
    "        out_path=alignment_path+f'bamstats_reads_{ALIGN_NAME}_{ALIGN_OPTS_NAME}/'\n",
    "        if not os.path.isfile(out_path):\n",
    "            pathlib.Path(out_path).mkdir(exist_ok=True)\n",
    "\n",
    "        bamstats_file=gatk_bam_file.split('gatk_sorted_marked.bam')[0]+'bamstats.txt'\n",
    "        print(f'bamstats_file: {bamstats_file}')\n",
    "        if os.path.isfile(bamstats_file):\n",
    "            remove_file(bamstats_file)\n",
    "        run_bamstats(gatk_bam_file, bamstats_file)\n",
    "        if bed_file:\n",
    "            out_path=alignment_path+f'bamdst_reads_{ALIGN_NAME}_{ALIGN_OPTS_NAME}/'\n",
    "            print(f'out_path: {out_path}')\n",
    "            if not os.path.isfile(out_path):\n",
    "                pathlib.Path(out_path).mkdir(exist_ok=True)\n",
    "            run_bamdst(bed_file, out_path, gatk_bam_file)\n",
    "            bamdst_data=out_path+'chromosomes.report'\n",
    "            aligned_file=align_idx_bamdst(idxstat_file, bamdst_data)"
   ]
  },
  {
   "cell_type": "code",
   "execution_count": 77,
   "id": "imposed-destruction",
   "metadata": {},
   "outputs": [],
   "source": [
    "def workflow_single(sra_dir=False, bed_file=None, sra_r=None):\n",
    "    if not os.path.isfile(PRJ_OUT_PATH):\n",
    "        pathlib.Path(PRJ_OUT_PATH).mkdir(exist_ok=True)\n",
    "    for idx, sra in enumerate(SRAsingle):\n",
    "        print(f'{sra}') \n",
    "        fastq=FASTQ_SINGLE[idx]\n",
    "        if sra_dir:\n",
    "            f1path=BASE_PATH+sra+'/'+fastq\n",
    "        else:\n",
    "            f1path=BASE_PATH+fastq\n",
    "        alignment_path=PRJ_OUT_PATH+sra\n",
    "        if not os.path.isfile(alignment_path):\n",
    "            pathlib.Path(alignment_path).mkdir(exist_ok=True)\n",
    "        alignment_path=PRJ_OUT_PATH+sra+'/minimap2/'\n",
    "        if not os.path.isfile(alignment_path):\n",
    "            pathlib.Path(alignment_path).mkdir(exist_ok=True)\n",
    "\n",
    "        #if not os.path.isfile(f1path):\n",
    "            #if not CREATE_FASTP:\n",
    "                #print(f'file doesnt exist but should: {f1path}')\n",
    "                #raise Exception\n",
    "            #out_1=f1path.split('.fq')[0]+'_fastp.fq'\n",
    "            #cmd = f\"fastp --in1 {f1path} --out1 {out_1}\"\n",
    "            #subprocess.check_call(cmd, shell=True)\n",
    "        f2path=''\n",
    "        sam_out=run_minimap2(f1path, f2path, alignment_path, sra, sra_r)\n",
    "        gatk_out=gatk_sort(sam_out)\n",
    "        gatk_bam_file=gatk_metrics(gatk_out)\n",
    "        index_bam(gatk_bam_file)\n",
    "\n",
    "        remove_file(gatk_out)\n",
    "        idxstat_file=gatk_bam_file.split(f'{BAM_POSTFIX}.bam')[0]+'idxstats.txt'\n",
    "        run_idxstats(gatk_bam_file, idxstat_file)\n",
    "        \n",
    "        bamstats_file=gatk_bam_file.split('gatk_sorted_marked.bam')[0]+'bamstats.txt'\n",
    "        print(f'bamstats_file: {bamstats_file}')\n",
    "        if os.path.isfile(bamstats_file):\n",
    "            remove_file(bamstats_file)\n",
    "        run_bamstats(gatk_bam_file, bamstats_file)\n",
    "        if bed_file:\n",
    "            out_path=alignment_path+f'bamdst_reads_{ALIGN_NAME}_{ALIGN_OPTS_NAME}_{sra_r}se/'\n",
    "            if not os.path.isfile(out_path):\n",
    "                pathlib.Path(out_path).mkdir(exist_ok=True)\n",
    "            run_bamdst(bed_file, out_path, gatk_bam_file)\n",
    "            bamdst_data=out_path+'chromosomes.report'\n",
    "            aligned_file=align_idx_bamdst(idxstat_file, bamdst_data)"
   ]
  },
  {
   "cell_type": "code",
   "execution_count": 78,
   "id": "1a805e3c",
   "metadata": {},
   "outputs": [],
   "source": [
    "MINIMAP2_PATH='~/apps/minimap2-2.24_x64-linux/'\n",
    "SAMTOOLS_PATH='~/apps/samtools-1.14/bin/'\n",
    "BAMDST_PATH='/mnt/1TB_0/Data/Code/external/bamdst/'\n",
    "BEDTOOLS_PATH='~/apps/bedtools/'"
   ]
  },
  {
   "cell_type": "markdown",
   "id": "74ce89c2",
   "metadata": {},
   "source": [
    "### General Settings"
   ]
  },
  {
   "cell_type": "code",
   "execution_count": 79,
   "id": "847867a0",
   "metadata": {},
   "outputs": [],
   "source": [
    "REF_NAME='GX_ZC45-CoV_Mc14_ZC45_gap_filled_no_polyA.fa'\n",
    "REF_PATH='/mnt/1TB_0/Data/Assembly/PRJNA793740/zc45_6_pangolin_6_rodent_pe/minimap2/MEGA/'\n",
    "ALIGN_NAME=REF_NAME.split('.fa')[0]\n",
    "\n",
    "NUM_THREADS=8\n",
    "LAYOUT='SINGLE'\n",
    "KEEP_UNALIGNED=False\n",
    "CREATE_FASTP=False\n",
    "\n",
    "#https://lh3.github.io/minimap2/minimap2.html#5 -2 for 2 IO threads\n",
    "MINIMAP_PARAMS=f'-MD -c -eqx -x sr -2 -t {NUM_THREADS} --sam-hit-only --secondary=no'\n",
    "ALIGN_OPTS_NAME='x_sr_secondary_no'\n",
    "\n",
    "BAM_POSTFIX='gatk_sorted_marked'\n",
    "BAMSTATS_POST=f'_{ALIGN_NAME}_{ALIGN_OPTS_NAME}_bamstats.txt'\n",
    "BAM_POST=f'_reads_{REF_NAME.split(\".fa\")[0]}_{ALIGN_OPTS_NAME}_bowtie2_gatk_sorted_marked.bam'"
   ]
  },
  {
   "cell_type": "markdown",
   "id": "4895fa7c",
   "metadata": {},
   "source": [
    "#### bed file/reference indexing"
   ]
  },
  {
   "cell_type": "code",
   "execution_count": 80,
   "id": "premier-placement",
   "metadata": {},
   "outputs": [],
   "source": [
    "bed_file=prep_bed(create=False)"
   ]
  },
  {
   "cell_type": "markdown",
   "id": "fe6ec693",
   "metadata": {},
   "source": [
    "### BioProject specific"
   ]
  },
  {
   "cell_type": "code",
   "execution_count": 55,
   "id": "ee6258bb",
   "metadata": {},
   "outputs": [
    {
     "name": "stdout",
     "output_type": "stream",
     "text": [
      "SRR17497109\n",
      "~/apps/minimap2-2.24_x64-linux/minimap2 -MD -c -eqx -x sr -2 -t 32 --sam-hit-only --secondary=no -a /mnt/1TB_0/Data/fasta/complete_nucleotide/bwa_indexes/MG772933_1_Bat_SARS-like_coronavirus_isolate_bat-SL-CoVZC45_complete_genome.fa /mnt/8TB_2/Data/genbank/PRJNA795267/SRR17497109_1_val_1.fq /mnt/8TB_2/Data/genbank/PRJNA795267/SRR17497109_2_val_2.fq >/mnt/1TB_0/Data/Assembly/PRJNA795267/SRR17497109/minimap2/SRR17497109_x_sr_secondary_no_MG772933_1_Bat_SARS-like_coronavirus_isolate_bat-SL-CoVZC45_complete_genome_minimap2.sam \n",
      "bamstats_file: /mnt/1TB_0/Data/Assembly/PRJNA795267/SRR17497109/minimap2/SRR17497109_x_sr_secondary_no_MG772933_1_Bat_SARS-like_coronavirus_isolate_bat-SL-CoVZC45_complete_genome_minimap2_bamstats.txt\n",
      "out_path: /mnt/1TB_0/Data/Assembly/PRJNA795267/SRR17497109/minimap2/bamdst_reads_MG772933_1_Bat_SARS-like_coronavirus_isolate_bat-SL-CoVZC45_complete_genome_x_sr_secondary_no/\n",
      "--align_idx_bamdst() idxstat_file: /mnt/1TB_0/Data/Assembly/PRJNA795267/SRR17497109/minimap2/SRR17497109_x_sr_secondary_no_MG772933_1_Bat_SARS-like_coronavirus_isolate_bat-SL-CoVZC45_complete_genome_minimap2_idxstats.txt\n",
      "new_report: /mnt/1TB_0/Data/Assembly/PRJNA795267/SRR17497109/minimap2/bamdst_reads_MG772933_1_Bat_SARS-like_coronavirus_isolate_bat-SL-CoVZC45_complete_genome_x_sr_secondary_no/chromosomes.report_N.txt\n",
      "SRR17509971\n",
      "~/apps/minimap2-2.24_x64-linux/minimap2 -MD -c -eqx -x sr -2 -t 32 --sam-hit-only --secondary=no -a /mnt/1TB_0/Data/fasta/complete_nucleotide/bwa_indexes/MG772933_1_Bat_SARS-like_coronavirus_isolate_bat-SL-CoVZC45_complete_genome.fa /mnt/8TB_2/Data/genbank/PRJNA795267/SRR17509971_1_val_1.fq /mnt/8TB_2/Data/genbank/PRJNA795267/SRR17509971_2_val_2.fq >/mnt/1TB_0/Data/Assembly/PRJNA795267/SRR17509971/minimap2/SRR17509971_x_sr_secondary_no_MG772933_1_Bat_SARS-like_coronavirus_isolate_bat-SL-CoVZC45_complete_genome_minimap2.sam \n",
      "bamstats_file: /mnt/1TB_0/Data/Assembly/PRJNA795267/SRR17509971/minimap2/SRR17509971_x_sr_secondary_no_MG772933_1_Bat_SARS-like_coronavirus_isolate_bat-SL-CoVZC45_complete_genome_minimap2_bamstats.txt\n",
      "out_path: /mnt/1TB_0/Data/Assembly/PRJNA795267/SRR17509971/minimap2/bamdst_reads_MG772933_1_Bat_SARS-like_coronavirus_isolate_bat-SL-CoVZC45_complete_genome_x_sr_secondary_no/\n",
      "--align_idx_bamdst() idxstat_file: /mnt/1TB_0/Data/Assembly/PRJNA795267/SRR17509971/minimap2/SRR17509971_x_sr_secondary_no_MG772933_1_Bat_SARS-like_coronavirus_isolate_bat-SL-CoVZC45_complete_genome_minimap2_idxstats.txt\n",
      "new_report: /mnt/1TB_0/Data/Assembly/PRJNA795267/SRR17509971/minimap2/bamdst_reads_MG772933_1_Bat_SARS-like_coronavirus_isolate_bat-SL-CoVZC45_complete_genome_x_sr_secondary_no/chromosomes.report_N.txt\n"
     ]
    }
   ],
   "source": [
    "PRJ='PRJNA793740'\n",
    "PRJ_OUT_PATH=f'/mnt/1TB_0/Data/Assembly/{PRJ}/'\n",
    "BASE_PATH=f'/mnt/8TB_2/Data/genbank/{PRJ}/'\n",
    "\n",
    "SRAs=['SRR17509932','SRR17509945']\n",
    "\n",
    "FASTQ_FILES=[]\n",
    "for f in SRAs:\n",
    "    FASTQ_FILES.append(f+'_1_val_1.fq')\n",
    "    FASTQ_FILES.append(f+'_2_val_2.fq')\n",
    "    \n",
    "workflow_paired(sra_dir=False, bed_file=bed_file)"
   ]
  },
  {
   "cell_type": "code",
   "execution_count": 29,
   "id": "b71cabc0",
   "metadata": {},
   "outputs": [
    {
     "name": "stdout",
     "output_type": "stream",
     "text": [
      "SRR17481184\n",
      "~/apps/minimap2-2.24_x64-linux/minimap2 -MD -c -eqx -x sr -2 -t 32 --sam-hit-only --secondary=no -a /mnt/1TB_0/Data/Assembly/PRJNA793740/zc45_6_pangolin_6_rodent_pe/minimap2/MEGA/GX_ZC45-CoV_Mc14_ZC45_gap_filled_no_polyA.fa /mnt/8TB_0/Data/genbank/PRJNA793740/SRR17481184_1_val_1.fq /mnt/8TB_0/Data/genbank/PRJNA793740/SRR17481184_2_val_2.fq >/mnt/1TB_0/Data/Assembly/PRJNA793740/SRR17481184/minimap2/SRR17481184_x_sr_secondary_no_GX_ZC45-CoV_Mc14_ZC45_gap_filled_no_polyA_minimap2.sam \n",
      "bamstats_file: /mnt/1TB_0/Data/Assembly/PRJNA793740/SRR17481184/minimap2/SRR17481184_x_sr_secondary_no_GX_ZC45-CoV_Mc14_ZC45_gap_filled_no_polyA_minimap2_bamstats.txt\n",
      "out_path: /mnt/1TB_0/Data/Assembly/PRJNA793740/SRR17481184/minimap2/bamdst_reads_GX_ZC45-CoV_Mc14_ZC45_gap_filled_no_polyA_x_sr_secondary_no/\n",
      "--align_idx_bamdst() idxstat_file: /mnt/1TB_0/Data/Assembly/PRJNA793740/SRR17481184/minimap2/SRR17481184_x_sr_secondary_no_GX_ZC45-CoV_Mc14_ZC45_gap_filled_no_polyA_minimap2_idxstats.txt\n",
      "new_report: /mnt/1TB_0/Data/Assembly/PRJNA793740/SRR17481184/minimap2/bamdst_reads_GX_ZC45-CoV_Mc14_ZC45_gap_filled_no_polyA_x_sr_secondary_no/chromosomes.report_N.txt\n",
      "SRR17509928\n",
      "~/apps/minimap2-2.24_x64-linux/minimap2 -MD -c -eqx -x sr -2 -t 32 --sam-hit-only --secondary=no -a /mnt/1TB_0/Data/Assembly/PRJNA793740/zc45_6_pangolin_6_rodent_pe/minimap2/MEGA/GX_ZC45-CoV_Mc14_ZC45_gap_filled_no_polyA.fa /mnt/8TB_0/Data/genbank/PRJNA793740/SRR17509928_1_val_1.fq /mnt/8TB_0/Data/genbank/PRJNA793740/SRR17509928_2_val_2.fq >/mnt/1TB_0/Data/Assembly/PRJNA793740/SRR17509928/minimap2/SRR17509928_x_sr_secondary_no_GX_ZC45-CoV_Mc14_ZC45_gap_filled_no_polyA_minimap2.sam \n",
      "bamstats_file: /mnt/1TB_0/Data/Assembly/PRJNA793740/SRR17509928/minimap2/SRR17509928_x_sr_secondary_no_GX_ZC45-CoV_Mc14_ZC45_gap_filled_no_polyA_minimap2_bamstats.txt\n",
      "out_path: /mnt/1TB_0/Data/Assembly/PRJNA793740/SRR17509928/minimap2/bamdst_reads_GX_ZC45-CoV_Mc14_ZC45_gap_filled_no_polyA_x_sr_secondary_no/\n",
      "--align_idx_bamdst() idxstat_file: /mnt/1TB_0/Data/Assembly/PRJNA793740/SRR17509928/minimap2/SRR17509928_x_sr_secondary_no_GX_ZC45-CoV_Mc14_ZC45_gap_filled_no_polyA_minimap2_idxstats.txt\n",
      "new_report: /mnt/1TB_0/Data/Assembly/PRJNA793740/SRR17509928/minimap2/bamdst_reads_GX_ZC45-CoV_Mc14_ZC45_gap_filled_no_polyA_x_sr_secondary_no/chromosomes.report_N.txt\n",
      "SRR17481195\n",
      "~/apps/minimap2-2.24_x64-linux/minimap2 -MD -c -eqx -x sr -2 -t 32 --sam-hit-only --secondary=no -a /mnt/1TB_0/Data/Assembly/PRJNA793740/zc45_6_pangolin_6_rodent_pe/minimap2/MEGA/GX_ZC45-CoV_Mc14_ZC45_gap_filled_no_polyA.fa /mnt/8TB_0/Data/genbank/PRJNA793740/SRR17481195_1_val_1.fq /mnt/8TB_0/Data/genbank/PRJNA793740/SRR17481195_2_val_2.fq >/mnt/1TB_0/Data/Assembly/PRJNA793740/SRR17481195/minimap2/SRR17481195_x_sr_secondary_no_GX_ZC45-CoV_Mc14_ZC45_gap_filled_no_polyA_minimap2.sam \n",
      "bamstats_file: /mnt/1TB_0/Data/Assembly/PRJNA793740/SRR17481195/minimap2/SRR17481195_x_sr_secondary_no_GX_ZC45-CoV_Mc14_ZC45_gap_filled_no_polyA_minimap2_bamstats.txt\n",
      "out_path: /mnt/1TB_0/Data/Assembly/PRJNA793740/SRR17481195/minimap2/bamdst_reads_GX_ZC45-CoV_Mc14_ZC45_gap_filled_no_polyA_x_sr_secondary_no/\n",
      "--align_idx_bamdst() idxstat_file: /mnt/1TB_0/Data/Assembly/PRJNA793740/SRR17481195/minimap2/SRR17481195_x_sr_secondary_no_GX_ZC45-CoV_Mc14_ZC45_gap_filled_no_polyA_minimap2_idxstats.txt\n",
      "new_report: /mnt/1TB_0/Data/Assembly/PRJNA793740/SRR17481195/minimap2/bamdst_reads_GX_ZC45-CoV_Mc14_ZC45_gap_filled_no_polyA_x_sr_secondary_no/chromosomes.report_N.txt\n",
      "SRR17509939\n",
      "~/apps/minimap2-2.24_x64-linux/minimap2 -MD -c -eqx -x sr -2 -t 32 --sam-hit-only --secondary=no -a /mnt/1TB_0/Data/Assembly/PRJNA793740/zc45_6_pangolin_6_rodent_pe/minimap2/MEGA/GX_ZC45-CoV_Mc14_ZC45_gap_filled_no_polyA.fa /mnt/8TB_0/Data/genbank/PRJNA793740/SRR17509939_1_val_1.fq /mnt/8TB_0/Data/genbank/PRJNA793740/SRR17509939_2_val_2.fq >/mnt/1TB_0/Data/Assembly/PRJNA793740/SRR17509939/minimap2/SRR17509939_x_sr_secondary_no_GX_ZC45-CoV_Mc14_ZC45_gap_filled_no_polyA_minimap2.sam \n",
      "bamstats_file: /mnt/1TB_0/Data/Assembly/PRJNA793740/SRR17509939/minimap2/SRR17509939_x_sr_secondary_no_GX_ZC45-CoV_Mc14_ZC45_gap_filled_no_polyA_minimap2_bamstats.txt\n",
      "out_path: /mnt/1TB_0/Data/Assembly/PRJNA793740/SRR17509939/minimap2/bamdst_reads_GX_ZC45-CoV_Mc14_ZC45_gap_filled_no_polyA_x_sr_secondary_no/\n",
      "--align_idx_bamdst() idxstat_file: /mnt/1TB_0/Data/Assembly/PRJNA793740/SRR17509939/minimap2/SRR17509939_x_sr_secondary_no_GX_ZC45-CoV_Mc14_ZC45_gap_filled_no_polyA_minimap2_idxstats.txt\n",
      "new_report: /mnt/1TB_0/Data/Assembly/PRJNA793740/SRR17509939/minimap2/bamdst_reads_GX_ZC45-CoV_Mc14_ZC45_gap_filled_no_polyA_x_sr_secondary_no/chromosomes.report_N.txt\n",
      "SRR17509911\n",
      "~/apps/minimap2-2.24_x64-linux/minimap2 -MD -c -eqx -x sr -2 -t 32 --sam-hit-only --secondary=no -a /mnt/1TB_0/Data/Assembly/PRJNA793740/zc45_6_pangolin_6_rodent_pe/minimap2/MEGA/GX_ZC45-CoV_Mc14_ZC45_gap_filled_no_polyA.fa /mnt/8TB_0/Data/genbank/PRJNA793740/SRR17509911_1_val_1.fq /mnt/8TB_0/Data/genbank/PRJNA793740/SRR17509911_2_val_2.fq >/mnt/1TB_0/Data/Assembly/PRJNA793740/SRR17509911/minimap2/SRR17509911_x_sr_secondary_no_GX_ZC45-CoV_Mc14_ZC45_gap_filled_no_polyA_minimap2.sam \n",
      "bamstats_file: /mnt/1TB_0/Data/Assembly/PRJNA793740/SRR17509911/minimap2/SRR17509911_x_sr_secondary_no_GX_ZC45-CoV_Mc14_ZC45_gap_filled_no_polyA_minimap2_bamstats.txt\n",
      "out_path: /mnt/1TB_0/Data/Assembly/PRJNA793740/SRR17509911/minimap2/bamdst_reads_GX_ZC45-CoV_Mc14_ZC45_gap_filled_no_polyA_x_sr_secondary_no/\n",
      "--align_idx_bamdst() idxstat_file: /mnt/1TB_0/Data/Assembly/PRJNA793740/SRR17509911/minimap2/SRR17509911_x_sr_secondary_no_GX_ZC45-CoV_Mc14_ZC45_gap_filled_no_polyA_minimap2_idxstats.txt\n",
      "new_report: /mnt/1TB_0/Data/Assembly/PRJNA793740/SRR17509911/minimap2/bamdst_reads_GX_ZC45-CoV_Mc14_ZC45_gap_filled_no_polyA_x_sr_secondary_no/chromosomes.report_N.txt\n",
      "SRR17481206\n",
      "~/apps/minimap2-2.24_x64-linux/minimap2 -MD -c -eqx -x sr -2 -t 32 --sam-hit-only --secondary=no -a /mnt/1TB_0/Data/Assembly/PRJNA793740/zc45_6_pangolin_6_rodent_pe/minimap2/MEGA/GX_ZC45-CoV_Mc14_ZC45_gap_filled_no_polyA.fa /mnt/8TB_0/Data/genbank/PRJNA793740/SRR17481206_1_val_1.fq /mnt/8TB_0/Data/genbank/PRJNA793740/SRR17481206_2_val_2.fq >/mnt/1TB_0/Data/Assembly/PRJNA793740/SRR17481206/minimap2/SRR17481206_x_sr_secondary_no_GX_ZC45-CoV_Mc14_ZC45_gap_filled_no_polyA_minimap2.sam \n",
      "bamstats_file: /mnt/1TB_0/Data/Assembly/PRJNA793740/SRR17481206/minimap2/SRR17481206_x_sr_secondary_no_GX_ZC45-CoV_Mc14_ZC45_gap_filled_no_polyA_minimap2_bamstats.txt\n",
      "out_path: /mnt/1TB_0/Data/Assembly/PRJNA793740/SRR17481206/minimap2/bamdst_reads_GX_ZC45-CoV_Mc14_ZC45_gap_filled_no_polyA_x_sr_secondary_no/\n",
      "--align_idx_bamdst() idxstat_file: /mnt/1TB_0/Data/Assembly/PRJNA793740/SRR17481206/minimap2/SRR17481206_x_sr_secondary_no_GX_ZC45-CoV_Mc14_ZC45_gap_filled_no_polyA_minimap2_idxstats.txt\n",
      "new_report: /mnt/1TB_0/Data/Assembly/PRJNA793740/SRR17481206/minimap2/bamdst_reads_GX_ZC45-CoV_Mc14_ZC45_gap_filled_no_polyA_x_sr_secondary_no/chromosomes.report_N.txt\n"
     ]
    }
   ],
   "source": [
    "PRJ='PRJNA793740'\n",
    "PRJ_OUT_PATH=f'/mnt/1TB_0/Data/Assembly/{PRJ}/'\n",
    "BASE_PATH=f'/mnt/8TB_0/Data/genbank/{PRJ}/'\n",
    "\n",
    "SRAs=['SRR17481184','SRR17509928','SRR17481195','SRR17509939', 'SRR17509911', 'SRR17481206']\n",
    "\n",
    "FASTQ_FILES=[]\n",
    "for f in SRAs:\n",
    "    FASTQ_FILES.append(f+'_1_val_1.fq')\n",
    "    FASTQ_FILES.append(f+'_2_val_2.fq')\n",
    "    \n",
    "workflow_paired(sra_dir=False, bed_file=bed_file)"
   ]
  },
  {
   "cell_type": "code",
   "execution_count": 81,
   "id": "d49dbbfc",
   "metadata": {},
   "outputs": [
    {
     "name": "stdout",
     "output_type": "stream",
     "text": [
      "SRR17509932\n",
      "~/apps/minimap2-2.24_x64-linux/minimap2 -MD -c -eqx -x sr -2 -t 8 --sam-hit-only --secondary=no -a /mnt/1TB_0/Data/Assembly/PRJNA793740/zc45_6_pangolin_6_rodent_pe/minimap2/MEGA/GX_ZC45-CoV_Mc14_ZC45_gap_filled_no_polyA.fa /mnt/8TB_2/Data/genbank/PRJNA793740/SRR17509932_trimmed.fq  >/mnt/1TB_0/Data/Assembly/PRJNA793740/SRR17509932/minimap2/SRR17509932_x_sr_secondary_no_GX_ZC45-CoV_Mc14_ZC45_gap_filled_no_polyA_minimap2.sam \n",
      "bamstats_file: /mnt/1TB_0/Data/Assembly/PRJNA793740/SRR17509932/minimap2/SRR17509932_x_sr_secondary_no_GX_ZC45-CoV_Mc14_ZC45_gap_filled_no_polyA_minimap2_bamstats.txt\n",
      "--align_idx_bamdst() idxstat_file: /mnt/1TB_0/Data/Assembly/PRJNA793740/SRR17509932/minimap2/SRR17509932_x_sr_secondary_no_GX_ZC45-CoV_Mc14_ZC45_gap_filled_no_polyA_minimap2_idxstats.txt\n",
      "new_report: /mnt/1TB_0/Data/Assembly/PRJNA793740/SRR17509932/minimap2/bamdst_reads_GX_ZC45-CoV_Mc14_ZC45_gap_filled_no_polyA_x_sr_secondary_no_Nonese/chromosomes.report_N.txt\n",
      "SRR17509945\n",
      "~/apps/minimap2-2.24_x64-linux/minimap2 -MD -c -eqx -x sr -2 -t 8 --sam-hit-only --secondary=no -a /mnt/1TB_0/Data/Assembly/PRJNA793740/zc45_6_pangolin_6_rodent_pe/minimap2/MEGA/GX_ZC45-CoV_Mc14_ZC45_gap_filled_no_polyA.fa /mnt/8TB_2/Data/genbank/PRJNA793740/SRR17509945_trimmed.fq  >/mnt/1TB_0/Data/Assembly/PRJNA793740/SRR17509945/minimap2/SRR17509945_x_sr_secondary_no_GX_ZC45-CoV_Mc14_ZC45_gap_filled_no_polyA_minimap2.sam \n",
      "bamstats_file: /mnt/1TB_0/Data/Assembly/PRJNA793740/SRR17509945/minimap2/SRR17509945_x_sr_secondary_no_GX_ZC45-CoV_Mc14_ZC45_gap_filled_no_polyA_minimap2_bamstats.txt\n",
      "--align_idx_bamdst() idxstat_file: /mnt/1TB_0/Data/Assembly/PRJNA793740/SRR17509945/minimap2/SRR17509945_x_sr_secondary_no_GX_ZC45-CoV_Mc14_ZC45_gap_filled_no_polyA_minimap2_idxstats.txt\n",
      "new_report: /mnt/1TB_0/Data/Assembly/PRJNA793740/SRR17509945/minimap2/bamdst_reads_GX_ZC45-CoV_Mc14_ZC45_gap_filled_no_polyA_x_sr_secondary_no_Nonese/chromosomes.report_N.txt\n"
     ]
    }
   ],
   "source": [
    "PRJ='PRJNA793740'\n",
    "PRJ_OUT_PATH=f'/mnt/1TB_0/Data/Assembly/{PRJ}/'\n",
    "BASE_PATH=f'/mnt/8TB_2/Data/genbank/{PRJ}/'\n",
    "\n",
    "SRAsingle=['SRR17509932','SRR17509945']\n",
    "\n",
    "FASTQ_SINGLE=[]\n",
    "for f in SRAsingle:\n",
    "    FASTQ_SINGLE.append(f+'_trimmed.fq')\n",
    "    \n",
    "workflow_single(sra_dir=False, bed_file=bed_file)"
   ]
  },
  {
   "cell_type": "code",
   "execution_count": null,
   "id": "42a2c347",
   "metadata": {},
   "outputs": [],
   "source": []
  }
 ],
 "metadata": {
  "kernelspec": {
   "display_name": "Python 3",
   "language": "python",
   "name": "python3"
  },
  "language_info": {
   "codemirror_mode": {
    "name": "ipython",
    "version": 3
   },
   "file_extension": ".py",
   "mimetype": "text/x-python",
   "name": "python",
   "nbconvert_exporter": "python",
   "pygments_lexer": "ipython3",
   "version": "3.6.13"
  }
 },
 "nbformat": 4,
 "nbformat_minor": 5
}
